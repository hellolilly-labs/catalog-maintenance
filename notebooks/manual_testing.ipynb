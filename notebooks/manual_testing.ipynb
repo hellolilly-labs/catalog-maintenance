{
  "cells": [
    {
      "cell_type": "raw",
      "metadata": {
        "vscode": {
          "languageId": "raw"
        }
      },
      "source": [
        "# Catalog Maintenance Manual Testing\n",
        "\n",
        "This notebook provides interactive testing for the catalog maintenance system.\n",
        "\n",
        "## Features\n",
        "- Test Pinecone index connections\n",
        "- Run queries against dense/sparse/hybrid indices\n",
        "- Test LLM services and prompt generation\n",
        "- Debug product ingestion workflows\n",
        "- Monitor system statistics\n",
        "- Test vertical auto-detection across multiple industries\n",
        "\n",
        "**Note**: See `brand_research.ipynb` for brand intelligence testing.\n"
      ]
    },
    {
      "cell_type": "markdown",
      "metadata": {},
      "source": [
        "# Catalog Maintenance Manual Testing\n",
        "\n",
        "This notebook provides interactive testing for the catalog maintenance system.\n",
        "\n",
        "## Features\n",
        "- Test Pinecone index connections\n",
        "- Run queries against dense/sparse/hybrid indices\n",
        "- Test LLM services and prompt generation\n",
        "- Debug product ingestion workflows\n",
        "- Monitor system statistics\n",
        "\n",
        "**Initial Brand**: specialized.com\n"
      ]
    },
    {
      "cell_type": "code",
      "execution_count": 1,
      "metadata": {},
      "outputs": [
        {
          "ename": "ModuleNotFoundError",
          "evalue": "No module named 'configs'",
          "output_type": "error",
          "traceback": [
            "\u001b[31m---------------------------------------------------------------------------\u001b[39m",
            "\u001b[31mModuleNotFoundError\u001b[39m                       Traceback (most recent call last)",
            "\u001b[36mCell\u001b[39m\u001b[36m \u001b[39m\u001b[32mIn[1]\u001b[39m\u001b[32m, line 12\u001b[39m\n\u001b[32m      9\u001b[39m sys.path.append(\u001b[33m'\u001b[39m\u001b[33m../src\u001b[39m\u001b[33m'\u001b[39m)\n\u001b[32m     11\u001b[39m \u001b[38;5;66;03m# Import our modules\u001b[39;00m\n\u001b[32m---> \u001b[39m\u001b[32m12\u001b[39m \u001b[38;5;28;01mfrom\u001b[39;00m\u001b[38;5;250m \u001b[39m\u001b[34;01mconfigs\u001b[39;00m\u001b[34;01m.\u001b[39;00m\u001b[34;01msettings\u001b[39;00m\u001b[38;5;250m \u001b[39m\u001b[38;5;28;01mimport\u001b[39;00m get_settings\n\u001b[32m     13\u001b[39m \u001b[38;5;28;01mfrom\u001b[39;00m\u001b[38;5;250m \u001b[39m\u001b[34;01mpinecone_client\u001b[39;00m\u001b[38;5;250m \u001b[39m\u001b[38;5;28;01mimport\u001b[39;00m get_pinecone_client\n\u001b[32m     14\u001b[39m \u001b[38;5;28;01mfrom\u001b[39;00m\u001b[38;5;250m \u001b[39m\u001b[34;01mllm\u001b[39;00m\u001b[38;5;250m \u001b[39m\u001b[38;5;28;01mimport\u001b[39;00m get_llm_router\n",
            "\u001b[31mModuleNotFoundError\u001b[39m: No module named 'configs'"
          ]
        }
      ],
      "source": [
        "# Setup and imports\n",
        "import sys\n",
        "import os\n",
        "import asyncio\n",
        "import json\n",
        "from datetime import datetime\n",
        "\n",
        "# Add src to path\n",
        "sys.path.append('../src')\n",
        "\n",
        "# Import our modules\n",
        "from configs.settings import get_settings\n",
        "from pinecone_client import get_pinecone_client\n",
        "from llm import get_llm_router\n",
        "from llm.prompt_manager import PromptManager\n",
        "from descriptor import get_descriptor_generator\n",
        "from models.product import Product\n",
        "from models.product_manager import ProductManager\n",
        "\n",
        "print(\"✅ Imports successful!\")\n",
        "print(f\"Timestamp: {datetime.now()}\")\n"
      ]
    },
    {
      "cell_type": "code",
      "execution_count": null,
      "metadata": {},
      "outputs": [],
      "source": [
        "# Initialize configuration\n",
        "settings = get_settings()\n",
        "print(f\"Environment: {settings.env}\")\n",
        "print(f\"GCP Project: {settings.gcp.project_id}\")\n",
        "print(f\"Bucket: {settings.gcp.get_bucket_name()}\")\n",
        "\n",
        "# Test brand index naming\n",
        "brand = \"specialized.com\"\n",
        "dense_index = settings.pinecone.get_index_name(brand, \"dense\")\n",
        "sparse_index = settings.pinecone.get_index_name(brand, \"sparse\")\n",
        "\n",
        "print(f\"\\nIndex names for {brand}:\")\n",
        "print(f\"Dense: {dense_index}\")\n",
        "print(f\"Sparse: {sparse_index}\")\n"
      ]
    },
    {
      "cell_type": "raw",
      "metadata": {
        "vscode": {
          "languageId": "raw"
        }
      },
      "source": [
        "## 1. Test Pinecone Connections\n"
      ]
    },
    {
      "cell_type": "code",
      "execution_count": null,
      "metadata": {},
      "outputs": [],
      "source": [
        "# Test Pinecone client\n",
        "try:\n",
        "    pinecone_client = get_pinecone_client()\n",
        "    print(\"✅ Pinecone client initialized\")\n",
        "    \n",
        "    # Test index connections\n",
        "    dense_stats = pinecone_client.get_index_stats(dense_index)\n",
        "    print(f\"\\n📊 Dense index ({dense_index}) stats:\")\n",
        "    print(json.dumps(dense_stats, indent=2))\n",
        "    \n",
        "    sparse_stats = pinecone_client.get_index_stats(sparse_index)\n",
        "    print(f\"\\n📊 Sparse index ({sparse_index}) stats:\")\n",
        "    print(json.dumps(sparse_stats, indent=2))\n",
        "    \n",
        "except Exception as e:\n",
        "    print(f\"❌ Pinecone connection failed: {e}\")\n",
        "    print(\"Make sure PINECONE_API_KEY is set and indices exist\")\n"
      ]
    },
    {
      "cell_type": "raw",
      "metadata": {
        "vscode": {
          "languageId": "raw"
        }
      },
      "source": [
        "## 2. Test LLM Services and Prompts\n"
      ]
    },
    {
      "cell_type": "code",
      "execution_count": null,
      "metadata": {},
      "outputs": [],
      "source": [
        "# Test LLM router\n",
        "try:\n",
        "    llm_router = get_llm_router()\n",
        "    print(\"✅ LLM router initialized\")\n",
        "    \n",
        "    # Test a simple completion\n",
        "    response = await llm_router.chat_completion(\n",
        "        system=\"You are a helpful assistant.\",\n",
        "        messages=[{\"role\": \"user\", \"content\": \"Say hello and confirm you're working!\"}],\n",
        "        task=\"test\",\n",
        "        max_tokens=50\n",
        "    )\n",
        "    \n",
        "    print(f\"\\n🤖 LLM Response: {response}\")\n",
        "    \n",
        "except Exception as e:\n",
        "    print(f\"❌ LLM test failed: {e}\")\n",
        "    print(\"Make sure OPENAI_API_KEY is set\")\n",
        "\n",
        "# Test Prompt Manager\n",
        "try:\n",
        "    prompt_manager = PromptManager()\n",
        "    print(\"\\n✅ Prompt manager initialized\")\n",
        "    \n",
        "    # Get descriptor prompt\n",
        "    descriptor_prompt = prompt_manager.get_descriptor_prompt()\n",
        "    print(f\"\\n📝 Descriptor prompt preview:\")\n",
        "    print(descriptor_prompt[:200] + \"...\")\n",
        "    \n",
        "    # Get sizing prompt  \n",
        "    sizing_prompt = prompt_manager.get_sizing_prompt()\n",
        "    print(f\"\\n📏 Sizing prompt preview:\")\n",
        "    print(sizing_prompt[:200] + \"...\")\n",
        "    \n",
        "except Exception as e:\n",
        "    print(f\"❌ Prompt manager test failed: {e}\")\n"
      ]
    },
    {
      "cell_type": "code",
      "execution_count": null,
      "metadata": {},
      "outputs": [],
      "source": []
    },
    {
      "cell_type": "raw",
      "metadata": {
        "vscode": {
          "languageId": "raw"
        }
      },
      "source": [
        "## 3. Test Vertical Auto-Detection\n",
        "\n",
        "The system automatically detects product verticals (cycling, fashion, beauty, technology, etc.) from product categories and brand analysis. No hardcoded assumptions.\n"
      ]
    },
    {
      "cell_type": "code",
      "execution_count": null,
      "metadata": {},
      "outputs": [],
      "source": [
        "# Test vertical auto-detection\n",
        "try:\n",
        "    from product_ingestor import ProductIngestor\n",
        "    ingestor = ProductIngestor()\n",
        "    \n",
        "    # Test different product types for vertical detection\n",
        "    test_cases = [\n",
        "        {\n",
        "            \"brand\": \"specialized.com\",\n",
        "            \"products\": [\n",
        "                Product(categories=[\"Road Bikes\", \"Performance\"]),\n",
        "                Product(categories=[\"Mountain Bikes\", \"Trail\"]),\n",
        "                Product(categories=[\"Helmets\", \"Safety\"])\n",
        "            ],\n",
        "            \"expected\": \"cycling\"\n",
        "        },\n",
        "        {\n",
        "            \"brand\": \"fashion-store.com\", \n",
        "            \"products\": [\n",
        "                Product(categories=[\"Clothing\", \"Dresses\"]),\n",
        "                Product(categories=[\"Shoes\", \"Sneakers\"]),\n",
        "                Product(categories=[\"Accessories\", \"Bags\"])\n",
        "            ],\n",
        "            \"expected\": \"fashion\"\n",
        "        },\n",
        "        {\n",
        "            \"brand\": \"beauty-brand.com\",\n",
        "            \"products\": [\n",
        "                Product(categories=[\"Skincare\", \"Serums\"]),\n",
        "                Product(categories=[\"Cosmetics\", \"Foundation\"]),\n",
        "                Product(categories=[\"Beauty\", \"Moisturizer\"])\n",
        "            ],\n",
        "            \"expected\": \"beauty\"\n",
        "        }\n",
        "    ]\n",
        "    \n",
        "    print(\"🔍 Testing Vertical Auto-Detection:\")\n",
        "    for case in test_cases:\n",
        "        detected = ingestor._detect_vertical_from_products(case[\"products\"])\n",
        "        brand_detected = ingestor._detect_vertical_from_brand(case[\"brand\"])\n",
        "        \n",
        "        print(f\"\\\\n📊 Brand: {case['brand']}\")\n",
        "        print(f\"   Product categories: {[p.categories for p in case['products']]}\")\n",
        "        print(f\"   Detected from products: {detected}\")\n",
        "        print(f\"   Detected from brand: {brand_detected}\")\n",
        "        print(f\"   Expected: {case['expected']}\")\n",
        "        print(f\"   ✅ Match: {detected == case['expected'] or brand_detected == case['expected']}\")\n",
        "    \n",
        "except Exception as e:\n",
        "    print(f\"❌ Vertical detection test failed: {e}\")\n"
      ]
    },
    {
      "cell_type": "code",
      "execution_count": null,
      "metadata": {},
      "outputs": [],
      "source": [
        "# Test descriptor generation with auto-detection\n",
        "try:\n",
        "    descriptor_gen = get_descriptor_generator()\n",
        "    print(\"✅ Descriptor generator initialized\")\n",
        "    \n",
        "    # Create sample products for different verticals to test auto-detection\n",
        "    sample_products = [\n",
        "        Product(\n",
        "            id=\"test-bike-123\",\n",
        "            name=\"Tarmac SL7 Expert\",\n",
        "            brand=\"specialized.com\",\n",
        "            categories=[\"Road Bikes\", \"Performance\"],\n",
        "            price=4000,\n",
        "            colors=[\"Gloss Red\", \"Satin Black\"],\n",
        "            sizes=[\"52cm\", \"54cm\", \"56cm\", \"58cm\"],\n",
        "            features=[\"Carbon Frame\", \"Shimano 105\", \"Tubeless Ready\"]\n",
        "        ),\n",
        "        Product(\n",
        "            id=\"test-fashion-456\",\n",
        "            name=\"Premium Cotton T-Shirt\",\n",
        "            brand=\"fashion-brand.com\",\n",
        "            categories=[\"Clothing\", \"Casual Wear\"],\n",
        "            price=45,\n",
        "            colors=[\"Black\", \"White\", \"Navy\"],\n",
        "            sizes=[\"S\", \"M\", \"L\", \"XL\"],\n",
        "            features=[\"100% Cotton\", \"Pre-shrunk\", \"Classic Fit\"]\n",
        "        )\n",
        "    ]\n",
        "    \n",
        "    for product in sample_products:\n",
        "        print(f\"\\n🧪 Testing with sample product: {product.name}\")\n",
        "        print(f\"Categories: {product.categories}\")\n",
        "        \n",
        "        # Generate descriptor\n",
        "        descriptor = await descriptor_gen.generate_descriptor(product)\n",
        "        print(f\"\\n📝 Generated descriptor:\")\n",
        "        print(descriptor)\n",
        "        \n",
        "        # Test sizing generation\n",
        "        sample_sizing = {\n",
        "            \"S\": \"Fits 34-36 inch chest\" if \"fashion\" in product.id else \"50cm frame for 160-170cm riders\",\n",
        "            \"M\": \"Fits 38-40 inch chest\" if \"fashion\" in product.id else \"52cm frame for 170-175cm riders\",\n",
        "            \"L\": \"Fits 42-44 inch chest\" if \"fashion\" in product.id else \"54cm frame for 175-180cm riders\"\n",
        "        }\n",
        "        \n",
        "        sizing = await descriptor_gen.generate_sizing(product, sample_sizing)\n",
        "        print(f\"\\n📏 Generated sizing:\")\n",
        "        print(json.dumps(sizing, indent=2))\n",
        "        print(\"-\" * 50)\n",
        "    \n",
        "except Exception as e:\n",
        "    print(f\"❌ Descriptor generation failed: {e}\")\n"
      ]
    }
  ],
  "metadata": {
    "language_info": {
      "name": "python"
    }
  },
  "nbformat": 4,
  "nbformat_minor": 2
}
